{
 "cells": [
  {
   "cell_type": "code",
   "execution_count": null,
   "source": [
    "from ypp.pipeline import Pipeline"
   ],
   "outputs": [],
   "metadata": {}
  },
  {
   "cell_type": "code",
   "execution_count": null,
   "source": [
    "# initialize Pipeline(directory, config)\n",
    "# run the pipeline on all files in the directory\n",
    "\n",
    "pipeline = Pipeline('examples', 'ypp/config/jupyter.json')"
   ],
   "outputs": [],
   "metadata": {}
  }
 ],
 "metadata": {
  "orig_nbformat": 4,
  "language_info": {
   "name": "python"
  }
 },
 "nbformat": 4,
 "nbformat_minor": 2
}