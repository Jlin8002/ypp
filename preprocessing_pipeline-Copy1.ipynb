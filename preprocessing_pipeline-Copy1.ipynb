{
 "cells": [
  {
   "cell_type": "markdown",
   "metadata": {},
   "source": [
    "## Import statements"
   ]
  },
  {
   "cell_type": "code",
   "execution_count": 1,
   "metadata": {},
   "outputs": [
    {
     "ename": "ModuleNotFoundError",
     "evalue": "No module named 'SciServer'",
     "output_type": "error",
     "traceback": [
      "\u001b[0;31m---------------------------------------------------------------------------\u001b[0m",
      "\u001b[0;31mModuleNotFoundError\u001b[0m                       Traceback (most recent call last)",
      "\u001b[0;32m<ipython-input-1-3a71fa38feb9>\u001b[0m in \u001b[0;36m<module>\u001b[0;34m\u001b[0m\n\u001b[0;32m----> 1\u001b[0;31m \u001b[0;32mimport\u001b[0m \u001b[0mplate_utils\u001b[0m\u001b[0;34m\u001b[0m\u001b[0;34m\u001b[0m\u001b[0m\n\u001b[0m\u001b[1;32m      2\u001b[0m \u001b[0;32mimport\u001b[0m \u001b[0msys\u001b[0m\u001b[0;34m\u001b[0m\u001b[0;34m\u001b[0m\u001b[0m\n\u001b[1;32m      3\u001b[0m \u001b[0;32mimport\u001b[0m \u001b[0mos\u001b[0m\u001b[0;34m\u001b[0m\u001b[0;34m\u001b[0m\u001b[0m\n\u001b[1;32m      4\u001b[0m \u001b[0;32mimport\u001b[0m \u001b[0mglob\u001b[0m\u001b[0;34m\u001b[0m\u001b[0;34m\u001b[0m\u001b[0m\n\u001b[1;32m      5\u001b[0m \u001b[0;32mimport\u001b[0m \u001b[0mnumpy\u001b[0m \u001b[0;32mas\u001b[0m \u001b[0mnp\u001b[0m\u001b[0;34m\u001b[0m\u001b[0;34m\u001b[0m\u001b[0m\n",
      "\u001b[0;32m~/Documents/Research/Kron/ypp/plate_utils.py\u001b[0m in \u001b[0;36m<module>\u001b[0;34m\u001b[0m\n\u001b[1;32m      5\u001b[0m \u001b[0;32mimport\u001b[0m \u001b[0mpandas\u001b[0m \u001b[0;32mas\u001b[0m \u001b[0mpd\u001b[0m\u001b[0;34m\u001b[0m\u001b[0;34m\u001b[0m\u001b[0m\n\u001b[1;32m      6\u001b[0m \u001b[0;32mimport\u001b[0m \u001b[0mmatplotlib\u001b[0m\u001b[0;34m.\u001b[0m\u001b[0mpyplot\u001b[0m \u001b[0;32mas\u001b[0m \u001b[0mplt\u001b[0m\u001b[0;34m\u001b[0m\u001b[0;34m\u001b[0m\u001b[0m\n\u001b[0;32m----> 7\u001b[0;31m \u001b[0;32mfrom\u001b[0m \u001b[0mSciServer\u001b[0m \u001b[0;32mimport\u001b[0m \u001b[0mCasJobs\u001b[0m     \u001b[0;31m# Communicate between SciServer Compute and CasJobs\u001b[0m\u001b[0;34m\u001b[0m\u001b[0;34m\u001b[0m\u001b[0m\n\u001b[0m\u001b[1;32m      8\u001b[0m \u001b[0;32mfrom\u001b[0m \u001b[0mastropy\u001b[0m\u001b[0;34m.\u001b[0m\u001b[0mio\u001b[0m \u001b[0;32mimport\u001b[0m \u001b[0mfits\u001b[0m\u001b[0;34m,\u001b[0m \u001b[0mascii\u001b[0m\u001b[0;34m\u001b[0m\u001b[0;34m\u001b[0m\u001b[0m\n\u001b[1;32m      9\u001b[0m \u001b[0;32mfrom\u001b[0m \u001b[0mastropy\u001b[0m\u001b[0;34m.\u001b[0m\u001b[0mwcs\u001b[0m \u001b[0;32mimport\u001b[0m \u001b[0mWCS\u001b[0m\u001b[0;34m\u001b[0m\u001b[0;34m\u001b[0m\u001b[0m\n",
      "\u001b[0;31mModuleNotFoundError\u001b[0m: No module named 'SciServer'"
     ]
    }
   ],
   "source": [
    "import plate_utils\n",
    "import sys\n",
    "import os\n",
    "import glob\n",
    "import numpy as np\n",
    "import pandas as pd\n",
    "import multiprocessing as mp\n",
    "from astropy.io import fits, ascii\n",
    "from astropy import wcs\n",
    "from matplotlib import cm\n",
    "import matplotlib.pyplot as plt\n",
    "%matplotlib\n",
    "from astropy.visualization import astropy_mpl_style\n",
    "plt.style.use(astropy_mpl_style)\n",
    "import astropy.units as u\n",
    "from astropy.coordinates import SkyCoord\n",
    "from astropy.table import Table, Column\n",
    "import pathlib\n",
    "import tensorflow as tf\n",
    "from tensorflow import keras"
   ]
  },
  {
   "cell_type": "markdown",
   "metadata": {},
   "source": [
    "### Specify data path"
   ]
  },
  {
   "cell_type": "code",
   "execution_count": null,
   "metadata": {},
   "outputs": [],
   "source": [
    "datapath = '../Methods Paper/'\n",
    "pathlib.Path(datapath + 'data_tables').mkdir(exist_ok=True)"
   ]
  },
  {
   "cell_type": "markdown",
   "metadata": {},
   "source": [
    "### Display files in path"
   ]
  },
  {
   "cell_type": "code",
   "execution_count": null,
   "metadata": {},
   "outputs": [],
   "source": [
    "files = glob.glob(datapath + '*.fit*')\n",
    "files = [os.path.basename(path) for path in files]\n",
    "plate_utils.index_print(files)"
   ]
  },
  {
   "cell_type": "markdown",
   "metadata": {},
   "source": [
    "### Print name of current file"
   ]
  },
  {
   "cell_type": "code",
   "execution_count": null,
   "metadata": {},
   "outputs": [],
   "source": [
    "whichfile = 1\n",
    "extensionless_name = files[whichfile][:files[whichfile].find('.')]\n",
    "print('whichfile =',files[whichfile])"
   ]
  },
  {
   "cell_type": "code",
   "execution_count": null,
   "metadata": {},
   "outputs": [],
   "source": [
    "Ry14 = plate_utils.Plate(datapath + files[whichfile])\n",
    "Ry14.crop((1690, 2007), 500)\n",
    "#Ry14.invert()\n",
    "Ry14.data[400:600, 400:600] = np.median(Ry14.data)\n",
    "plate_utils.display(Ry14.data)"
   ]
  },
  {
   "cell_type": "code",
   "execution_count": null,
   "metadata": {},
   "outputs": [],
   "source": [
    "import time\n",
    "start_proc = time.time()\n",
    "p = mp.Process(target=Ry14.query(threshold=20))\n",
    "start_fast = time.time()\n",
    "print(\"Proc: \", start_fast - start_proc)\n",
    "p.start()\n",
    "Ry14.sextract()\n",
    "p.join()\n",
    "print(\"Quextract: \",time.time() - start_proc)\n",
    "start_match_fast = time.time()\n",
    "Ry14.match()\n",
    "print(time.time() - start_match_fast)"
   ]
  },
  {
   "cell_type": "code",
   "execution_count": null,
   "metadata": {},
   "outputs": [],
   "source": [
    "#Ry14.center = (1750, 1650)\n",
    "Ry14.table['center_dist'] = ((Ry14.table['plate_x'] - Ry14.center[0])**2 + (Ry14.table['plate_y'] - Ry14.center[1])**2)**0.5"
   ]
  },
  {
   "cell_type": "code",
   "execution_count": null,
   "metadata": {},
   "outputs": [],
   "source": [
    "Ry14 = plate_utils.Plate"
   ]
  },
  {
   "cell_type": "code",
   "execution_count": null,
   "metadata": {},
   "outputs": [],
   "source": [
    "Ry14.table = pd.read_csv('../Methods Paper/Ry60_rgk.csv')"
   ]
  },
  {
   "cell_type": "code",
   "execution_count": null,
   "metadata": {},
   "outputs": [],
   "source": [
    "print(Ry14.table)"
   ]
  },
  {
   "cell_type": "code",
   "execution_count": null,
   "metadata": {},
   "outputs": [],
   "source": [
    "Ry14.table['umg'] = Ry14.table['u'] - Ry14.table['g']\n",
    "Ry14.table['gmp'] = Ry14.table['g'] - Ry14.table['mag_plate']"
   ]
  },
  {
   "cell_type": "code",
   "execution_count": null,
   "metadata": {},
   "outputs": [],
   "source": [
    "Ry14.table['res'] = Ry14.table['pg'] - Ry14.table['mag']\n",
    "Ry14.table['sqrt_signed'] = (np.abs(Ry14.table['res']) ** 0.5) * np.sign(Ry14.table['res'])\n",
    "Ry14.table['log_res_abs'] = np.log(np.abs(Ry14.table['res']))\n",
    "pos_res_table = Ry14.table[Ry14.table['res'] > 0]\n",
    "neg_res_table = Ry14.table[Ry14.table['res'] < 0]"
   ]
  },
  {
   "cell_type": "code",
   "execution_count": null,
   "metadata": {},
   "outputs": [],
   "source": [
    "plt.hist(Ry14.table['res'], bins='scott')"
   ]
  },
  {
   "cell_type": "code",
   "execution_count": null,
   "metadata": {},
   "outputs": [],
   "source": [
    "fig = plt.figure(figsize=(8, 6))\n",
    "plt.gca().invert_xaxis()\n",
    "plt.gca().set_ylabel('Dec')\n",
    "plt.gca().set_xlabel('RA')\n",
    "plt.title('Residuals of all objects (sqrt scale)')\n",
    "plt.scatter(Ry14.table['ra'], Ry14.table['dec'],\n",
    "            c=Ry14.table['sqrt_signed'])\n",
    "plt.colorbar()\n",
    "plt.show()"
   ]
  },
  {
   "cell_type": "code",
   "execution_count": null,
   "metadata": {},
   "outputs": [],
   "source": [
    "fig = plt.figure(figsize=(8, 6))\n",
    "plt.gca().invert_xaxis()\n",
    "plt.gca().set_ylabel('Dec')\n",
    "plt.gca().set_xlabel('RA')\n",
    "plt.title('Residuals of all objects (log scale)')\n",
    "plt.scatter(pos_res_table['ra'], pos_res_table['dec'],\n",
    "            c=pos_res_table['log_res_abs'])\n",
    "plt.colorbar()\n",
    "plt.show()"
   ]
  },
  {
   "cell_type": "code",
   "execution_count": null,
   "metadata": {},
   "outputs": [],
   "source": [
    "fig = plt.figure(figsize=(8, 6))\n",
    "plt.gca().invert_xaxis()\n",
    "plt.gca().set_ylabel('Dec')\n",
    "plt.gca().set_xlabel('RA')\n",
    "plt.title('Residuals of all objects (log scale)')\n",
    "plt.scatter(neg_res_table['ra'], neg_res_table['dec'],\n",
    "            c=np.array(neg_res_table['log_res_abs']))\n",
    "plt.colorbar()\n",
    "plt.show()"
   ]
  },
  {
   "cell_type": "code",
   "execution_count": null,
   "metadata": {
    "scrolled": true
   },
   "outputs": [],
   "source": [
    "fig = plt.figure(figsize=(8, 6))\n",
    "plt.gca().invert_xaxis()\n",
    "plt.gca().set_ylabel('Dec')\n",
    "plt.gca().set_xlabel('RA')\n",
    "plt.title('Residuals of all objects (log scale)')\n",
    "new_table = Ry14.table\n",
    "plt.scatter(new_table['ra'], new_table['dec'],\n",
    "            c=np.array(new_table['res']))\n",
    "plt.colorbar()\n",
    "plt.show()"
   ]
  },
  {
   "cell_type": "code",
   "execution_count": null,
   "metadata": {},
   "outputs": [],
   "source": [
    "fig = plt.figure(figsize=(8, 6))\n",
    "plt.ylim(-2, 2)\n",
    "plt.gca().set_xlabel('Distance from center')\n",
    "plt.gca().set_ylabel('pg - mag')\n",
    "plt.title('Residuals of all objects')\n",
    "new_table = Ry14.table\n",
    "plt.scatter(new_table['rad'], new_table['res'], c=new_table['pg'])\n",
    "plt.colorbar()\n",
    "plt.show()"
   ]
  },
  {
   "cell_type": "code",
   "execution_count": null,
   "metadata": {},
   "outputs": [],
   "source": [
    "plt.figure(figsize=(11.5, 11.5))\n",
    "# plt.ylim(5.3, 6.4)\n",
    "# plt.xlim(14.9, 18)\n",
    "plt.gca().invert_yaxis()\n",
    "plt.gca().set_ylabel('log10(flux)')\n",
    "plt.gca().set_xlabel('SDSS g magnitudes')\n",
    "plt.scatter(Ry14.table['g'], Ry14.table['mag_plate'], c=Ry14.table['center_dist'])"
   ]
  },
  {
   "cell_type": "code",
   "execution_count": null,
   "metadata": {},
   "outputs": [],
   "source": [
    "plt.figure(figsize=(11.5, 11.5))\n",
    "plt.gca().set_ylabel('u - g')\n",
    "plt.gca().set_xlabel('g - plate')\n",
    "# plt.xlim(0.75, 2)\n",
    "#plt.ylim(7, 10)\n",
    "# plt.gca().set_ylabel('u - g')\n",
    "# plt.gca().set_xlabel('g - plate')\n",
    "plt.scatter(Ry14.table['umg'], Ry14.table['gmp'])"
   ]
  },
  {
   "cell_type": "code",
   "execution_count": null,
   "metadata": {},
   "outputs": [],
   "source": [
    "def color_correction(x):\n",
    "    h1 = 1\n",
    "    k1 = 4\n",
    "    h2 = 2.5\n",
    "    k2 = 3.2\n",
    "    slope = (k2 - k1) / (h2 - h1)\n",
    "    return (slope*(h1 - x)) + k1\n",
    "\n",
    "Ry14.table['color_correction'] = color_correction(np.array(Ry14.table['g']))\n",
    "Ry14.table['corrected_mags'] = Ry14.table['mag_plate'] - Ry14.table['color_correction']\n",
    "\n",
    "plt.figure(figsize=(11.5, 11.5))\n",
    "# plt.ylim(5.3, 6.4)\n",
    "# plt.xlim(14.9, 18)\n",
    "plt.gca().invert_yaxis()\n",
    "plt.gca().set_ylabel('SDSS g magnitudes')\n",
    "plt.gca().set_xlabel('log10(flux)')\n",
    "plt.scatter(Ry14.table['corrected_mags'], Ry14.table['g'], c=Ry14.table['center_dist'])"
   ]
  },
  {
   "cell_type": "code",
   "execution_count": null,
   "metadata": {},
   "outputs": [],
   "source": [
    "import scipy.stats\n",
    "slope_cal, intercept_cal, r_value, p_value, std_err = scipy.stats.linregress(Ry14.table['corrected_mags'], Ry14.table['g'])\n",
    "print(std_err)\n",
    "def calibrate_mag(x):\n",
    "    return (slope_cal * x) + intercept_cal"
   ]
  },
  {
   "cell_type": "code",
   "execution_count": null,
   "metadata": {},
   "outputs": [],
   "source": [
    "# 1: 167.86885, 28.77947\n",
    "# 2: 167.59673, 28.73918\n",
    "# 3: 167.68761, 28.61742\n",
    "\n",
    "three_coords = [(167.86876, 28.77950), (167.68729, 28.61764), (167.59663, 28.73876)]\n",
    "three_ids = star_info_SDSS['objid'][quick_match(three_coords, star_info_SDSS_coords, 0.1, 0.5)]\n",
    "three_mags = np.array([Ry14.table['corrected_mags'][np.where(Ry14.table['objid'] == i)][0] for i in three_ids])\n",
    "\n",
    "print(three_mags)\n",
    "print(calibrate_mag(three_mags))"
   ]
  },
  {
   "cell_type": "markdown",
   "metadata": {},
   "source": [
    "### Gaussian fitting"
   ]
  },
  {
   "cell_type": "code",
   "execution_count": null,
   "metadata": {},
   "outputs": [],
   "source": [
    "domain_half = 20\n",
    "d_range = range(0 - domain_half, domain_half)\n",
    "slices = []\n",
    "gaussian_fits = []\n",
    "for i in range(len(star_cm_locations)):\n",
    "    if((star_x_cm_location[i] < (len(image_data[0]) - domain_half)) and (star_x_cm_location[i] > domain_half)):\n",
    "        star_slice = image_data[int(star_y_cm_location[i])][int(star_x_cm_location[i] - domain_half) : int(star_x_cm_location[i] + domain_half)]\n",
    "        slices.append(star_slice)\n",
    "        params, params_cov = opt.curve_fit(gaussian_x, d_range, star_slice, [10000, 0, 1, plate_median])\n",
    "        gaussian_fits.append(params)\n",
    "gaussian_fits = np.asarray(gaussian_fits)"
   ]
  },
  {
   "cell_type": "markdown",
   "metadata": {},
   "source": [
    "### CSV writing"
   ]
  },
  {
   "cell_type": "code",
   "execution_count": null,
   "metadata": {},
   "outputs": [],
   "source": [
    "table_len = len(cleaned_gaia_mags)\n",
    "preprocessing_table = Table()\n",
    "# preprocessing_table['plate_median'] = np.full(table_len, plate_median)\n",
    "# preprocessing_table['plate_width'] = np.full(table_len, plate_width)\n",
    "# preprocessing_table['plate_width_wcs'] = np.full(table_len, plate_width_wcs)\n",
    "# preprocessing_table['g_amplitude'] = gaussian_fits[:, 0]\n",
    "# preprocessing_table['g_width'] = gaussian_fits[:, 2]\n",
    "# preprocessing_table['g_background'] = gaussian_fits[:, 3]\n",
    "preprocessing_table['gaia_flux'] = star_fluxes\n",
    "preprocessing_table['gaia_mag'] = star_info_SDSS['g']\n",
    "# preprocessing_table['SDSS_flux'] = star_fluxes\n",
    "# preprocessing_table['SDSS_mag'] = star_info_SDSS['g']\n",
    "\n",
    "preprocessing_table.write(datapath + '/data_tables/' + extensionless_name + '.csv', format='csv', overwrite=True)"
   ]
  },
  {
   "cell_type": "code",
   "execution_count": null,
   "metadata": {},
   "outputs": [],
   "source": []
  }
 ],
 "metadata": {
  "kernelspec": {
   "display_name": "Python 3",
   "language": "python",
   "name": "python3"
  },
  "language_info": {
   "codemirror_mode": {
    "name": "ipython",
    "version": 3
   },
   "file_extension": ".py",
   "mimetype": "text/x-python",
   "name": "python",
   "nbconvert_exporter": "python",
   "pygments_lexer": "ipython3",
   "version": "3.8.3"
  }
 },
 "nbformat": 4,
 "nbformat_minor": 4
}
